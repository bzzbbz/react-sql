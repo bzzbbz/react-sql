{
 "cells": [
  {
   "cell_type": "code",
   "execution_count": 40,
   "metadata": {},
   "outputs": [],
   "source": [
    "import os\n",
    "import openai\n",
    "import dotenv\n",
    " \n",
    "\n",
    "openai.api_key = os.getenv('OPENAI_API_KEY')\n",
    "\n",
    "def llm(prompt, stop=[\"\\n\"]):\n",
    "    response = openai.Completion.create(\n",
    "      model=\"text-davinci-002\",\n",
    "      prompt=prompt,\n",
    "      temperature=0,\n",
    "      max_tokens=100,\n",
    "      top_p=1,\n",
    "      frequency_penalty=0.0,\n",
    "      presence_penalty=0.0,\n",
    "      stop=stop\n",
    "    )\n",
    "    return response[\"choices\"][0][\"text\"]"
   ]
  },
  {
   "cell_type": "code",
   "execution_count": 2,
   "metadata": {},
   "outputs": [
    {
     "name": "stderr",
     "output_type": "stream",
     "text": [
      "/Users/byronzhang/opt/anaconda3/envs/unclip/lib/python3.10/site-packages/tqdm/auto.py:21: TqdmWarning: IProgress not found. Please update jupyter and ipywidgets. See https://ipywidgets.readthedocs.io/en/stable/user_install.html\n",
      "  from .autonotebook import tqdm as notebook_tqdm\n",
      "Found cached dataset wikisql (/Users/byronzhang/.cache/huggingface/datasets/wikisql/default/0.1.0/7037bfe6a42b1ca2b6ac3ccacba5253b1825d31379e9cc626fc79a620977252d)\n",
      "100%|██████████| 3/3 [00:00<00:00, 209.47it/s]\n"
     ]
    }
   ],
   "source": [
    "from consts import * \n",
    "import sqlenv, wrappers\n",
    "import requests\n",
    "\n",
    "env = sqlenv.SQLEnv()\n",
    "env = wrappers.WikiSQLWrapper(env)\n",
    "env = wrappers.LoggingWrapper(env)\n",
    "\n",
    "def step(env, action):\n",
    "    attempts = 0\n",
    "    while attempts < 5:\n",
    "        try:\n",
    "            return env.step(action)\n",
    "        except requests.exceptions.Timeout:\n",
    "            attempts += 1"
   ]
  },
  {
   "cell_type": "code",
   "execution_count": 3,
   "metadata": {},
   "outputs": [],
   "source": [
    "instruction = \"\"\"You are given the header of a SQL table named df and a query you need to find an answer to. Use logical step-by-step Thought, Action, and Observation to get to the correct answer. In your actions, you can issue a SQL query on the table to fetch the next observation. Return your answer in finish[<answer>].\n",
    "\"\"\"\n",
    "examples = [EXAMPLE_REGULAR, EXAMPLE_AND, EXAMPLE_MAX, EXAMPLE_EMPTY]\n",
    "\n",
    "wikisql_prompt = instruction\n",
    "for j, example in enumerate(examples):\n",
    "    wikisql_prompt += example.format(i=j+1)\n",
    "\n",
    "def wikisql(idx=1, prompt=wikisql_prompt, to_print=True):\n",
    "    question = env.reset(idx=idx)\n",
    "    if to_print:\n",
    "        print(idx, question)\n",
    "    prompt += question\n",
    "    n_calls, n_badcalls = 0, 0\n",
    "    for i in range(1, 5):\n",
    "        n_calls += 1\n",
    "        thought_action = llm(prompt + f\"Thought {i}:\", stop=[f\"\\nObservation {i}:\"])\n",
    "        try:\n",
    "            thought, action = thought_action.strip().split(f\"\\nAction {i}: \")\n",
    "        except:\n",
    "            print('ohh...', thought_action)\n",
    "            n_badcalls += 1\n",
    "            n_calls += 1\n",
    "            thought = thought_action.strip().split('\\n')[0]\n",
    "            action = llm(prompt + f\"Thought {i}: {thought}\\nAction {i}:\", stop=[f\"\\n\"]).strip()\n",
    "        obs, r, done, info = step(env, action[0].lower() + action[1:])\n",
    "        obs = obs.replace('\\\\n', '')\n",
    "        step_str = f\"Thought {i}: {thought}\\nAction {i}: {action}\\nObservation {i}: {obs}\\n\"\n",
    "        prompt += step_str\n",
    "        if to_print:\n",
    "            print(step_str)\n",
    "        if done:\n",
    "            break\n",
    "    if not done:\n",
    "        obs, r, done, info = step(env, \"finish[]\")\n",
    "    if to_print:\n",
    "        print(info, '\\n')\n",
    "    info.update({'n_calls': n_calls, 'n_badcalls': n_badcalls, 'traj': prompt})\n",
    "    return info"
   ]
  },
  {
   "cell_type": "code",
   "execution_count": 15,
   "metadata": {},
   "outputs": [
    {
     "name": "stdout",
     "output_type": "stream",
     "text": [
      "    Season         Date                   Location    Discipline Place\n",
      "0     2009  20 Nov 2008                Aspen , USA  Giant Slalom   1st\n",
      "1     2010  12 Dec 2009               Åre , Sweden  Giant Slalom   1st\n",
      "2     2011  27 Nov 2010                 Aspen, USA  Giant Slalom   1st\n",
      "3     2011  12 Dec 2010    St.Moritz , Switzerland  Giant Slalom   1st\n",
      "4     2011  28 Dec 2010        Semmering , Austria  Giant Slalom   1st\n",
      "5     2012  28 Dec 2011            Lienz , Austria  Giant Slalom   3rd\n",
      "6     2012  21 Jan 2012   Kranjska Gora , Slovenia  Giant Slalom   1st\n",
      "7     2012  12 Feb 2012           Soldeu , Andorra  Giant Slalom   1st\n",
      "8     2013   9 Dec 2012    St. Moritz, Switzerland  Giant Slalom   3rd\n",
      "9     2013  16 Dec 2012        Courchevel , France  Giant Slalom   3rd\n",
      "10    2013  28 Dec 2012         Semmering, Austria  Giant Slalom   3rd\n",
      "11    2013  17 Mar 2013  Lenzerheide , Switzerland  Giant Slalom   2nd\n"
     ]
    },
    {
     "data": {
      "text/plain": [
       "('|   Season | Date        | Location   | Discipline   | Place   |\\n|---------:|:------------|:-----------|:-------------|:--------|\\n|     2011 | 27 Nov 2010 | Aspen, USA | Giant Slalom | 1st     |',\n",
       " 0,\n",
       " False,\n",
       " {'steps': 1, 'answer': None})"
      ]
     },
     "execution_count": 15,
     "metadata": {},
     "output_type": "execute_result"
    }
   ],
   "source": [
    "question = env.reset(idx=2)\n",
    "env.step(\"\"\"sql[SELECT * FROM df WHERE UPPER([Location]) = UPPER(\"Aspen, USA\")]\"\"\")"
   ]
  },
  {
   "cell_type": "code",
   "execution_count": 5,
   "metadata": {},
   "outputs": [],
   "source": [
    "infos = []\n",
    "for i, idx in zip(range(100), RANDOM_QUESTION_INDICES):\n",
    "    info = wikisql(idx=i, to_print=False)\n",
    "    info[\"question_idx\"] = idx\n",
    "    infos.append(info)"
   ]
  },
  {
   "cell_type": "code",
   "execution_count": 9,
   "metadata": {},
   "outputs": [],
   "source": [
    "import json\n",
    "\n",
    "with open(\"results_react.json\", 'w') as f:\n",
    "    json.dump(infos, f)"
   ]
  },
  {
   "cell_type": "code",
   "execution_count": 11,
   "metadata": {},
   "outputs": [],
   "source": [
    "import pickle\n",
    "with open(\"results_react.pkl\", 'wb') as f:\n",
    "    pickle.dump(infos, f)"
   ]
  },
  {
   "cell_type": "code",
   "execution_count": 37,
   "metadata": {},
   "outputs": [
    {
     "data": {
      "text/plain": [
       "{'steps': 3,\n",
       " 'answer': '6',\n",
       " 'n_calls': 3,\n",
       " 'n_badcalls': 0,\n",
       " 'traj': 'You are given the header of a SQL table named df and a query you need to find an answer to. Use logical step-by-step Thought, Action, and Observation to get to the correct answer. In your actions, you can issue a SQL query on the table to fetch the next observation. Return your answer in finish[<answer>].\\n\\nEXAMPLE 1:\\nHeader: [\\'Player\\', \\'No.\\', \\'Nationality\\', \\'Position\\', \\'Years in Toronto\\', \\'School/Club Team\\']\\nQuestion: [What is terrence ross\\' nationality]\\nThought 1: I need to find the information related to terrence ross.\\nAction 1: sql[SELECT * FROM df WHERE UPPER([Player]) = UPPER(\"Terrence Ross\")]\\nObservation 1: \\n| Player        |   No. | Nationality   | Position   | Years in Toronto   | School/Club Team   |\\n|:--------------|------:|:--------------|:-----------|:-------------------|:-------------------|\\n| Terrence Ross |    31 | United States | Guard      | 2012-present       | Washington         |\\nThought 2: Now I need to find the information in the “Nationality” column of terrence ross\\nAction 2: sql[SELECT [Nationality] FROM df WHERE UPPER([Player]) = UPPER(\"Terrence Ross\")]\\nObservation 2: \\n| Nationality   |\\n|:--------------|\\n| United States |\\nThought 3: Finally, I need to get the information under Nationality and return the final answer.\\nAction 3: finish[United States]\\n\\nEXAMPLE 2:\\nHeader: [\\'Scheme\\', \\'Tariff code\\', \\'BTs retail price (regulated)\\', \\'Approx premium\\', \\'Prefixes\\']\\nQuestion: [What prefixes are priced at pence per minute, fixed at all times with a premium of 3p/min?]\\nThought 1: I need to find the rows in the table where the \"Scheme\" is \"Pence per minute, fixed at all times,\" and the \"Approx premium\" is \"3p/min.\"\\nAction 1: sql[SELECT * FROM df WHERE UPPER([Scheme]) = UPPER(\"Pence per minute, fixed at all times\") AND UPPER([Approx premium]) = UPPER(\"3p/min\")]\\nObservation 1: \\n| Scheme                               | Tariff code   | BTs retail price (regulated)   | Approx premium   | Prefixes   |\\n|:-------------------------------------|:--------------|:-------------------------------|:-----------------|:-----------|\\n| Pence per minute, fixed at all times | g27           | 1.277p/min                     | 3p/min           | 0843, 0844 |\\n| Pence per minute, fixed at all times | g28           | 2.128p/min                     | 3p/min           | 0843, 0844 |\\nThought 2: Now I need to extract the \"Prefixes\" column from the rows that match the criteria.\\nAction 2: sql[SELECT [Prefixes] FROM df WHERE [Scheme] = \"Pence per minute, fixed at all times\" AND [Approx premium] = \"3p/min\"]\\nObservation 2: \\n| Prefixes   |\\n|:-----------|\\n| 0843, 0844 |\\n| 0843, 0844 |\\nThought 3: Finally, I need to combine the prefixes from the selected rows and return the unique prefixes as the final answer.\\nAction 3: finish[0843, 0844]\\n\\nEXAMPLE 3: \\nHeader: [\\'Year\\', \\'Aircraft kilometers\\', \\'Departures\\', \\'Flying hours\\', \\'Passengers\\', \\'Seat factor\\', \\'Employees\\', \\'Profit/loss\\']\\nQuestion: [Of the years that had exactly 17096 departures, what is the greatest number of aircraft kilometers flown?]\\nThought 1: I need to first find the years that had exactly 17096 departures\\nAction 1: sql[SELECT * FROM df WHERE [Departures] = \"17096\"]\\nObservation 1:\\n|   Year |   Aircraft kilometers |   Departures |   Flying hours |   Passengers | Seat factor   |   Employees | Profit/loss        |\\n|-------:|----------------------:|-------------:|---------------:|-------------:|:--------------|------------:|:-------------------|\\n|   2002 |              37767709 |        17096 |          55970 |      1339779 | 66%           |        3008 | Loss 3,044,000 JOD |\\nThought 2: Now I need to find the row that corresponds to the greatest number of aircraft kilometers flown. I’ll need to use MAX to do this.\\nAction 2: sql[SELECT max([Aircraft kilometers]) FROM df WHERE [Departures] = \"17096\"]\\nObservation 2:\\n|   max([Aircraft kilometers]) |\\n|-----------------------------:|\\n|                  3.77677e+07 |\\nThought 3: Finally, I need to return the Aircraft kilometers as the final answer.\\nAction 3: finish[3.77677e+07]\\n\\nEXAMPLE 4:\\nHeader: [\\'Position\\', \\'Artist\\', \\'Song title\\', \\'Highest position\\', \\'Points\\']\\nQuery: [what is the minimum\\xa0highest position\\xa0with\\xa0artbeingt\\xa0being paul evans]Thought 1: I need to find the rows in the table where the \"Artist\" is \"Paul Evans.\"\\nAction 1: sql[SELECT * FROM df WHERE UPPER([Artist]) = UPPER(\"Paul Evans\")]\\nObservation 1: |   Position | Artist     | Song title                                        |   Highest position |   Points |\\n|-----------:|:-----------|:--------------------------------------------------|-------------------:|---------:|\\n|         36 | Paul Evans | \" Seven Little Girls (Sitting In The Back Seat) \" |                  6 |       78 |\\nThought 2: Now I need to find the row that corresponds to the minimum highest position. I’ll need to use MIN to do this.\\nAction 2: sql[SELECT min([Highest position]) FROM df WHERE UPPER([Artist]) = UPPER(\"Paul Evans\")]\\nObservation 2: |   min([Highest position]) |\\n|--------------------------:|\\n|                         6 |\\nThought 3: Finally, I need to return the highest position as the final answer.\\nAction 3: finish[6]\\nObservation 3: Episode finished.\\n\\n',\n",
       " 'question_idx': 885}"
      ]
     },
     "execution_count": 37,
     "metadata": {},
     "output_type": "execute_result"
    }
   ],
   "source": [
    "infos[25]"
   ]
  }
 ],
 "metadata": {
  "kernelspec": {
   "display_name": "unclip",
   "language": "python",
   "name": "python3"
  },
  "language_info": {
   "codemirror_mode": {
    "name": "ipython",
    "version": 3
   },
   "file_extension": ".py",
   "mimetype": "text/x-python",
   "name": "python",
   "nbconvert_exporter": "python",
   "pygments_lexer": "ipython3",
   "version": "3.10.10"
  },
  "orig_nbformat": 4
 },
 "nbformat": 4,
 "nbformat_minor": 2
}
