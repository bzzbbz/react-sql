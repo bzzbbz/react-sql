{
 "cells": [
  {
   "cell_type": "code",
   "execution_count": 19,
   "metadata": {},
   "outputs": [],
   "source": [
    "import os\n",
    "import openai\n",
    "import dotenv\n",
    " \n",
    "\n",
    "openai.api_key = os.getenv('OPENAI_API_KEY')\n",
    "model = \"text-davinci-003\"\n",
    "\n",
    "\n",
    "def llm(prompt, stop=[\"\\n\"]):\n",
    "  if model == \"gpt-4-0314\":\n",
    "    response = openai.ChatCompletion.create(\n",
    "      model=model,\n",
    "      messages=prompt,\n",
    "      temperature=0,\n",
    "      max_tokens=100,\n",
    "      top_p=1,\n",
    "      frequency_penalty=0.0,\n",
    "      presence_penalty=0.0,\n",
    "      stop=stop,\n",
    "    )\n",
    "    return response['choices'][0]['message']['content']\n",
    "    \n",
    "  response = openai.Completion.create(\n",
    "    model=model,\n",
    "    prompt=prompt,\n",
    "    temperature=0,\n",
    "    max_tokens=100,\n",
    "    top_p=1,\n",
    "    frequency_penalty=0.0,\n",
    "    presence_penalty=0.0,\n",
    "    stop=stop\n",
    "  )\n",
    "  return response[\"choices\"][0][\"text\"]"
   ]
  },
  {
   "cell_type": "code",
   "execution_count": 20,
   "metadata": {},
   "outputs": [
    {
     "name": "stderr",
     "output_type": "stream",
     "text": [
      "Found cached dataset wikisql (/Users/byronzhang/.cache/huggingface/datasets/wikisql/default/0.1.0/7037bfe6a42b1ca2b6ac3ccacba5253b1825d31379e9cc626fc79a620977252d)\n",
      "100%|██████████| 3/3 [00:00<00:00, 97.87it/s]\n"
     ]
    }
   ],
   "source": [
    "from consts import * \n",
    "from consts_actonly import *\n",
    "from consts_thoughtonly import *\n",
    "from consts_standard import *\n",
    "import sqlenv, wrappers\n",
    "import requests\n",
    "\n",
    "env = sqlenv.SQLEnv()\n",
    "env = wrappers.WikiSQLWrapper(env)\n",
    "env = wrappers.LoggingWrapper(env)\n",
    "\n",
    "def step(env, action):\n",
    "    attempts = 0\n",
    "    while attempts < 5:\n",
    "        try:\n",
    "            return env.step(action)\n",
    "        except requests.exceptions.Timeout:\n",
    "            attempts += 1"
   ]
  },
  {
   "cell_type": "code",
   "execution_count": 22,
   "metadata": {},
   "outputs": [],
   "source": [
    "instruction = \"\"\"You are given the header of a SQL table named df and a question you need to find an answer to. Use logical step-by-step Thought, Action, and Observation to get to the correct answer. In your actions, you can issue a SQL query on the table to fetch the next observation. Return your answer in finish[<answer>].\n",
    "\"\"\"\n",
    "instruction_cot = \"\"\"You are given the header of a SQL table named df and a question you need to find an answer to. Use logical step-by-step Thought to get to the correct answer. Return your answer in finish[<answer>].\n",
    "\"\"\"\n",
    "\n",
    "# change the index to the mode you want to be in\n",
    "modes = [\"react\", \"act_only\", \"thought_only\", \"standard\"][0]\n",
    "\n",
    "examples = [EXAMPLE_REGULAR, EXAMPLE_AND, EXAMPLE_COUNT, EXAMPLE_AVG, EXAMPLE_EMPTY]\n",
    "if modes == \"react\":\n",
    "    examples = [EXAMPLE_AND, EXAMPLE_COUNT, EXAMPLE_EMPTY, EXAMPLE_AVG]\n",
    "    ACT_ONLY = False\n",
    "elif modes == \"act_only\":\n",
    "    examples = [EXAMPLE_REGULAR_A, EXAMPLE_AND_A, EXAMPLE_COUNT_A, EXAMPLE_EMPTY]\n",
    "    ACT_ONLY = True\n",
    "elif modes == \"thought_only\":\n",
    "    instruction = \"\"\"You are given the header of a SQL table named df and a question you need to find an answer to. Use logical step-by-step Thought to get to the correct answer. Return your answer in finish[<answer>].\n",
    "    \"\"\"\n",
    "    examples = [EXAMPLE_REGULAR_T, EXAMPLE_AND_T, EXAMPLE_COUNT_T, EXAMPLE_EMPTY]\n",
    "    ACT_ONLY = False\n",
    "else:\n",
    "    instruction = \"\"\"You are given the header of a SQL table named df and a question you need to find an answer to. Return your answer in finish[<answer>].\n",
    "    \"\"\"\n",
    "    examples = [EXAMPLE_REGULAR_S, EXAMPLE_AND_S, EXAMPLE_COUNT_S, EXAMPLE_EMPTY]\n",
    "    ACT_ONLY = True\n",
    "    \n",
    "\n",
    "\n",
    "wikisql_prompt = instruction\n",
    "for j, example in enumerate(examples):\n",
    "    wikisql_prompt += example.format(i=j+1)\n",
    "\n",
    "def wikisql(idx=1, prompt=wikisql_prompt, to_print=True, act_only=ACT_ONLY, cot=False):\n",
    "    question = env.reset(idx=idx)\n",
    "    if to_print:\n",
    "        print(idx, question)\n",
    "    prompt += question\n",
    "    n_calls, n_badcalls = 0, 0\n",
    "    for i in range(1, 5):\n",
    "        n_calls += 1\n",
    "        if act_only:\n",
    "            thought_action = llm(prompt, stop=[f\"\\nObservation {i}:\"])\n",
    "        else:\n",
    "            thought_action = llm(prompt + f\"Thought {i}:\", stop=[f\"\\nObservation {i}:\"])\n",
    "        try:\n",
    "            if act_only:\n",
    "                thought, action = thought_action.strip().split(f\"Action {i}: \")\n",
    "            else:\n",
    "                thought, action = thought_action.strip().split(f\"\\nAction {i}: \")\n",
    "        except:\n",
    "            print('ohh...', thought_action)\n",
    "            n_badcalls += 1\n",
    "            n_calls += 1\n",
    "            thought = thought_action.strip().split('\\n')[0]\n",
    "            action = llm(prompt + f\"Thought {i}: {thought}\\nAction {i}:\", stop=[f\"\\n\"]).strip()\n",
    "        obs, r, done, info = step(env, action[0].lower() + action[1:])\n",
    "        obs = obs.replace('\\\\n', '')\n",
    "        if act_only:\n",
    "            step_str = f\"Action {i}: {action}\\nObservation {i}: \\n{obs}\\n\"\n",
    "        else:\n",
    "            step_str = f\"Thought {i}: {thought}\\nAction {i}: {action}\\nObservation {i}: \\n{obs}\\n\"\n",
    "        prompt += step_str\n",
    "        if to_print:\n",
    "            print(step_str)\n",
    "        if done:\n",
    "            break\n",
    "    if not done:\n",
    "        obs, r, done, info = step(env, \"finish[]\")\n",
    "    if to_print:\n",
    "        print(info, '\\n')\n",
    "    info.update({'n_calls': n_calls, 'n_badcalls': n_badcalls, 'traj': prompt})\n",
    "    return info"
   ]
  },
  {
   "cell_type": "code",
   "execution_count": 23,
   "metadata": {},
   "outputs": [],
   "source": [
    "infos = []\n",
    "for i, idx in zip(range(100), RANDOM_QUESTION_INDICES):\n",
    "    info = wikisql(idx=i, to_print=False, act_only=ACT_ONLY)\n",
    "    info[\"question_idx\"] = idx\n",
    "    infos.append(info)"
   ]
  },
  {
   "cell_type": "code",
   "execution_count": 28,
   "metadata": {},
   "outputs": [],
   "source": [
    "result_name = \"./results/results_react_no_simple_003\"\n",
    "import json\n",
    "\n",
    "with open(f\"{result_name}.json\", 'w') as f:\n",
    "    json.dump(infos, f)"
   ]
  },
  {
   "cell_type": "code",
   "execution_count": 25,
   "metadata": {},
   "outputs": [],
   "source": [
    "import pickle\n",
    "with open(f\"{result_name}.pkl\", 'wb') as f:\n",
    "    pickle.dump(infos, f)"
   ]
  },
  {
   "cell_type": "code",
   "execution_count": 29,
   "metadata": {},
   "outputs": [],
   "source": [
    "with open(f\"{result_name}.pkl\", 'rb') as f:\n",
    "    infos_loaded = pickle.load(f)"
   ]
  },
  {
   "cell_type": "code",
   "execution_count": 30,
   "metadata": {},
   "outputs": [
    {
     "data": {
      "text/plain": [
       "{'steps': 3,\n",
       " 'answer': '<name>',\n",
       " 'n_calls': 3,\n",
       " 'n_badcalls': 0,\n",
       " 'traj': 'You are given the header of a SQL table named df and a question you need to find an answer to. Use logical step-by-step Thought, Action, and Observation to get to the correct answer. In your actions, you can issue a SQL query on the table to fetch the next observation. Return your answer in finish[<answer>].\\n\\nEXAMPLE 1:\\nHeader: [\\'Scheme\\', \\'Tariff code\\', \\'BTs retail price (regulated)\\', \\'Approx premium\\', \\'Prefixes\\']\\nQuestion: [What prefixes are priced at pence per minute, fixed at all times with a premium of 3p/min?]\\nThought 1: I need to find the rows in the table where the \"Scheme\" is \"Pence per minute, fixed at all times,\" and the \"Approx premium\" is \"3p/min\".\\nAction 1: sql[SELECT * FROM df WHERE UPPER([Scheme]) = UPPER(\"Pence per minute, fixed at all times\") AND UPPER([Approx premium]) = UPPER(\"3p/min\")]\\nObservation 1: \\n| Scheme                               | Tariff code   | BTs retail price (regulated)   | Approx premium   | Prefixes   |\\n|:-------------------------------------|:--------------|:-------------------------------|:-----------------|:-----------|\\n| Pence per minute, fixed at all times | g27           | 1.277p/min                     | 3p/min           | 0843, 0844 |\\n| Pence per minute, fixed at all times | g28           | 2.128p/min                     | 3p/min           | 0843, 0844 |\\nThought 2: Now I need to extract the \"Prefixes\" column from the rows that match the criteria.\\nAction 2: sql[SELECT [Prefixes] FROM df WHERE [Scheme] = \"Pence per minute, fixed at all times\" AND [Approx premium] = \"3p/min\"]\\nObservation 2: \\n| Prefixes   |\\n|:-----------|\\n| 0843, 0844 |\\n| 0843, 0844 |\\nThought 3: Finally, I need to combine the prefixes from the selected rows and return the unique prefixes as the final answer.\\nAction 3: finish[0843, 0844]\\n\\nEXAMPLE 2: \\nHeader: [\\'N°\\', \\'Television service\\', \\'Country\\', \\'Language\\', \\'Content\\', \\'DAR\\', \\'HDTV\\', \\'Package/Option\\']\\nQuestion: [How many television services are there where n°is greater than 856.0?]\\nThought 1: I need to first find the rows in the table where \"n°\" is greater than 856.0.\\nAction 1: sql[SELECT * FROM df WHERE [N°] > 856.0]\\nObservation 1:\\n|   N° | Television service   | Country   | Language   | Content   | DAR   | HDTV   | Package/Option   |\\n|-----:|:---------------------|:----------|:-----------|:----------|:------|:-------|:-----------------|\\n|  857 | Sender Neu Jerusalem | Germany   | German     | religione | 4:3   | no     | no ( FTA )       |\\n|  858 | TRSP                 | Italy     | Italian    | religione | 4:3   | no     | no ( FTA )       |\\nThought 2: Now I need to find the column that corresponds to Television service. I’ll need to use COUNT to know how many Televesion service there are.\\nAction 2: sql[SELECT COUNT([Television service]) FROM df WHERE [N°] > \"856.0\"]\\nObservation 2:\\n|   COUNT([Television service]) |\\n|------------------------------:|\\n|                             2 |\\nThought 3: Finally, I need to return the count of Television service as the final answer.\\nAction 3: finish[2]\\n\\nEXAMPLE 3:\\nEXAMPLE 4: \\nHeader: [\\'Rank\\', \\'Nation\\', \\'Gold\\', \\'Silver\\', \\'Bronze\\', \\'Total\\']\\nQuestion: [Name the average bronze for total less than 3]\\nThought 1: I need to first find the rows in the table where \"Total\" is less than 3.\\nAction 1: sql[SELECT * FROM df WHERE [Total] < 3]\\nObservation 1:\\n|   Rank | Nation      |   Gold |   Silver |   Bronze |   Total |\\n|-------:|:------------|-------:|---------:|---------:|--------:|\\n|      8 | Isle of Man |      1 |        0 |        0 |       1 |\\n|      9 | Guernsey    |      0 |        2 |        0 |       2 |\\n|     10 | Swaziland   |      0 |        1 |        0 |       1 |\\n|     12 | Malawi      |      0 |        0 |        2 |       2 |\\n|     13 | Botswana    |      0 |        0 |        1 |       1 |\\nThought 2: Now I need to find the column that corresponds to Bronze. I’ll need to use AVG to get the average.\\nAction 2: sql[SELECT AVG([Bronze]) FROM df WHERE [Total] < 3]\\nObservation 2:\\n|   AVG([Bronze]) |\\n|----------------:|\\n|        0.714286 |\\nThought 3: Finally, I need to return the average of Bronze as the final answer.\\nAction 3: finish[0.714286]\\n\\nHeader: [\\'No. in series\\', \\'No. in season\\', \\'Title\\', \\'Directed by\\', \\'Written by\\', \\'Original air date\\', \\'U.S. viewers (millions)\\']\\nQuestion: [Who is the writer of the episode called \"Ambush\" (part 1)?]Thought 1: I need to first find the row in the table where the \"Title\" is \"Ambush\" (part 1).\\nAction 1: sql[SELECT * FROM df WHERE UPPER([Title]) = UPPER(\"Ambush (part 1)\")]\\nObservation 1: \\n| No. in series   | No. in season   | Title   | Directed by   | Written by   | Original air date   | U.S. viewers (millions)   |\\n|-----------------|-----------------|---------|---------------|--------------|---------------------|---------------------------|\\nThought 2: Now I need to find the column that corresponds to Written by.\\nAction 2: sql[SELECT [Written by] FROM df WHERE UPPER([Title]) = UPPER(\"Ambush (part 1)\")]\\nObservation 2: \\n| Written by   |\\n|--------------|\\nThought 3: Finally, I need to return the writer of the episode as the final answer.\\nAction 3: finish[<name>]\\nObservation 3: \\nEpisode finished.\\n\\n',\n",
       " 'question_idx': 654}"
      ]
     },
     "execution_count": 30,
     "metadata": {},
     "output_type": "execute_result"
    }
   ],
   "source": [
    "# Observe what a single result dictionary looks like\n",
    "infos_loaded[0]"
   ]
  }
 ],
 "metadata": {
  "kernelspec": {
   "display_name": "unclip",
   "language": "python",
   "name": "python3"
  },
  "language_info": {
   "codemirror_mode": {
    "name": "ipython",
    "version": 3
   },
   "file_extension": ".py",
   "mimetype": "text/x-python",
   "name": "python",
   "nbconvert_exporter": "python",
   "pygments_lexer": "ipython3",
   "version": "3.10.10"
  },
  "orig_nbformat": 4
 },
 "nbformat": 4,
 "nbformat_minor": 2
}
