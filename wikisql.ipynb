{
 "cells": [
  {
   "cell_type": "code",
   "execution_count": 1,
   "metadata": {},
   "outputs": [
    {
     "name": "stderr",
     "output_type": "stream",
     "text": [
      "/Users/byronzhang/opt/anaconda3/envs/unclip/lib/python3.10/site-packages/tqdm/auto.py:21: TqdmWarning: IProgress not found. Please update jupyter and ipywidgets. See https://ipywidgets.readthedocs.io/en/stable/user_install.html\n",
      "  from .autonotebook import tqdm as notebook_tqdm\n",
      "Found cached dataset wikisql (/Users/byronzhang/.cache/huggingface/datasets/wikisql/default/0.1.0/7037bfe6a42b1ca2b6ac3ccacba5253b1825d31379e9cc626fc79a620977252d)\n",
      "100%|██████████| 3/3 [00:00<00:00, 183.41it/s]\n"
     ]
    }
   ],
   "source": [
    "from consts import * \n",
    "import sqlenv, wrappers\n",
    "import requests\n",
    "\n",
    "env = sqlenv.SQLEnv()\n",
    "env = wrappers.WikiSQLWrapper(env, indices=RANDOM_QUESTION_INDICES)\n",
    "env = wrappers.LoggingWrapper(env)\n",
    "\n",
    "def step(env, action):\n",
    "    attempts = 0\n",
    "    while attempts < 10:\n",
    "        try:\n",
    "            return env.step(action)\n",
    "        except requests.exceptions.Timeout:\n",
    "            attempts += 1"
   ]
  },
  {
   "cell_type": "code",
   "execution_count": 2,
   "metadata": {},
   "outputs": [],
   "source": [
    "instruction = \"\"\"You are given the header of a SQL table named df and a query you need to find an answer to. Use logical step-by-step Thought, Action, and Observation to get to the correct answer. In your actions, you can issue a SQL query on the table to fetch the next observation. Return your answer in finish[<answer>].\n",
    "\"\"\"\n",
    "wikisql_prompt = instruction + EXAMPLES\n",
    "\n",
    "def wikisql(idx=None, prompt=wikisql_prompt, to_print=True):\n",
    "    question = env.reset(idx=idx)\n",
    "    if to_print:\n",
    "        print(idx, question)\n",
    "    prompt += question\n",
    "    n_calls, n_badcalls = 0, 0\n",
    "    for i in range(1, 8):\n",
    "        n_calls += 1\n",
    "        thought_action = llm(prompt + f\"Thought {i}:\", stop=[f\"\\nObservation {i}:\"])\n",
    "        try:\n",
    "            thought, action = thought_action.strip().split(f\"\\nAction {i}: \")\n",
    "        except:\n",
    "            print('ohh...', thought_action)\n",
    "            n_badcalls += 1\n",
    "            n_calls += 1\n",
    "            thought = thought_action.strip().split('\\n')[0]\n",
    "            action = llm(prompt + f\"Thought {i}: {thought}\\nAction {i}:\", stop=[f\"\\n\"]).strip()\n",
    "        obs, r, done, info = step(env, action[0].lower() + action[1:])\n",
    "        obs = obs.replace('\\\\n', '')\n",
    "        step_str = f\"Thought {i}: {thought}\\nAction {i}: {action}\\nObservation {i}: {obs}\\n\"\n",
    "        prompt += step_str\n",
    "        if to_print:\n",
    "            print(step_str)\n",
    "        if done:\n",
    "            break\n",
    "    if not done:\n",
    "        obs, r, done, info = step(env, \"finish[]\")\n",
    "    if to_print:\n",
    "        print(info, '\\n')\n",
    "    info.update({'n_calls': n_calls, 'n_badcalls': n_badcalls, 'traj': prompt})\n",
    "    return r, info"
   ]
  },
  {
   "cell_type": "code",
   "execution_count": 3,
   "metadata": {},
   "outputs": [
    {
     "ename": "KeyError",
     "evalue": "0",
     "output_type": "error",
     "traceback": [
      "\u001b[0;31m---------------------------------------------------------------------------\u001b[0m",
      "\u001b[0;31mKeyError\u001b[0m                                  Traceback (most recent call last)",
      "Cell \u001b[0;32mIn[3], line 1\u001b[0m\n\u001b[0;32m----> 1\u001b[0m wikisql()\n",
      "Cell \u001b[0;32mIn[2], line 6\u001b[0m, in \u001b[0;36mwikisql\u001b[0;34m(idx, prompt, to_print)\u001b[0m\n\u001b[1;32m      5\u001b[0m \u001b[39mdef\u001b[39;00m \u001b[39mwikisql\u001b[39m(idx\u001b[39m=\u001b[39m\u001b[39mNone\u001b[39;00m, prompt\u001b[39m=\u001b[39mwikisql_prompt, to_print\u001b[39m=\u001b[39m\u001b[39mTrue\u001b[39;00m):\n\u001b[0;32m----> 6\u001b[0m     question \u001b[39m=\u001b[39m env\u001b[39m.\u001b[39;49mreset(idx\u001b[39m=\u001b[39;49midx)\n\u001b[1;32m      7\u001b[0m     \u001b[39mif\u001b[39;00m to_print:\n\u001b[1;32m      8\u001b[0m         \u001b[39mprint\u001b[39m(idx, question)\n",
      "File \u001b[0;32m~/Downloads/react-sql/wrappers.py:285\u001b[0m, in \u001b[0;36mLoggingWrapper.reset\u001b[0;34m(self, seed, return_info, options, idx)\u001b[0m\n\u001b[1;32m    284\u001b[0m \u001b[39mdef\u001b[39;00m \u001b[39mreset\u001b[39m(\u001b[39mself\u001b[39m, seed\u001b[39m=\u001b[39m\u001b[39mNone\u001b[39;00m, return_info\u001b[39m=\u001b[39m\u001b[39mFalse\u001b[39;00m, options\u001b[39m=\u001b[39m\u001b[39mNone\u001b[39;00m, idx\u001b[39m=\u001b[39m\u001b[39mNone\u001b[39;00m):\n\u001b[0;32m--> 285\u001b[0m   output \u001b[39m=\u001b[39m \u001b[39mself\u001b[39;49m\u001b[39m.\u001b[39;49menv\u001b[39m.\u001b[39;49mreset(seed\u001b[39m=\u001b[39;49mseed, return_info\u001b[39m=\u001b[39;49mreturn_info, options\u001b[39m=\u001b[39;49moptions, idx\u001b[39m=\u001b[39;49midx)\n\u001b[1;32m    286\u001b[0m   observation \u001b[39m=\u001b[39m output[\u001b[39m0\u001b[39m] \u001b[39mif\u001b[39;00m return_info \u001b[39melse\u001b[39;00m output\n\u001b[1;32m    287\u001b[0m   \u001b[39mself\u001b[39m\u001b[39m.\u001b[39mtraj \u001b[39m=\u001b[39m {\u001b[39m\"\u001b[39m\u001b[39mobservations\u001b[39m\u001b[39m\"\u001b[39m: [observation], \u001b[39m\"\u001b[39m\u001b[39mactions\u001b[39m\u001b[39m\"\u001b[39m: []}\n",
      "File \u001b[0;32m~/Downloads/react-sql/wrappers.py:167\u001b[0m, in \u001b[0;36mWikiSQLWrapper.reset\u001b[0;34m(self, seed, return_info, options, idx)\u001b[0m\n\u001b[1;32m    165\u001b[0m \u001b[39mself\u001b[39m\u001b[39m.\u001b[39menv\u001b[39m.\u001b[39mreset(seed\u001b[39m=\u001b[39mseed, return_info\u001b[39m=\u001b[39mreturn_info, options\u001b[39m=\u001b[39moptions)\n\u001b[1;32m    166\u001b[0m \u001b[39mself\u001b[39m\u001b[39m.\u001b[39mdata_idx \u001b[39m=\u001b[39m \u001b[39m0\u001b[39m \u001b[39mif\u001b[39;00m idx \u001b[39mis\u001b[39;00m \u001b[39mNone\u001b[39;00m \u001b[39melse\u001b[39;00m idx\n\u001b[0;32m--> 167\u001b[0m \u001b[39mprint\u001b[39m(\u001b[39mself\u001b[39;49m\u001b[39m.\u001b[39;49mdata[\u001b[39mself\u001b[39;49m\u001b[39m.\u001b[39;49mdata_idx])\n\u001b[1;32m    168\u001b[0m observation \u001b[39m=\u001b[39m \u001b[39mf\u001b[39m\u001b[39m\"\"\"\u001b[39m\u001b[39m\\n\u001b[39;00m\u001b[39m\"\u001b[39m\u001b[39mHeader: \u001b[39m\u001b[39m\"\u001b[39m\u001b[39m{\u001b[39;00m\u001b[39mself\u001b[39m\u001b[39m.\u001b[39mdata[\u001b[39mself\u001b[39m\u001b[39m.\u001b[39mdata_idx][\u001b[39m\"\u001b[39m\u001b[39mtable\u001b[39m\u001b[39m\"\u001b[39m][\u001b[39m\"\u001b[39m\u001b[39mheader\u001b[39m\u001b[39m\"\u001b[39m]\u001b[39m}\u001b[39;00m\u001b[39m\"\u001b[39m\u001b[39m\\\u001b[39m\u001b[39mQuery: \u001b[39m\u001b[39m\"\u001b[39m\u001b[39m{\u001b[39;00m\u001b[39mself\u001b[39m\u001b[39m.\u001b[39mdata[\u001b[39mself\u001b[39m\u001b[39m.\u001b[39mdata_idx][\u001b[39m\"\u001b[39m\u001b[39mquestion\u001b[39m\u001b[39m\"\u001b[39m]\u001b[39m}\u001b[39;00m\u001b[39m\\\"\u001b[39;00m\u001b[39m\"\"\"\u001b[39m\n\u001b[1;32m    169\u001b[0m info \u001b[39m=\u001b[39m \u001b[39mself\u001b[39m\u001b[39m.\u001b[39m_get_info()\n",
      "\u001b[0;31mKeyError\u001b[0m: 0"
     ]
    }
   ],
   "source": [
    "wikisql()"
   ]
  }
 ],
 "metadata": {
  "kernelspec": {
   "display_name": "unclip",
   "language": "python",
   "name": "python3"
  },
  "language_info": {
   "codemirror_mode": {
    "name": "ipython",
    "version": 3
   },
   "file_extension": ".py",
   "mimetype": "text/x-python",
   "name": "python",
   "nbconvert_exporter": "python",
   "pygments_lexer": "ipython3",
   "version": "3.10.10"
  },
  "orig_nbformat": 4
 },
 "nbformat": 4,
 "nbformat_minor": 2
}
